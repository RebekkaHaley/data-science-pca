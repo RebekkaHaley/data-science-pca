{
 "cells": [
  {
   "cell_type": "markdown",
   "metadata": {},
   "source": [
    "# Principal Components Analysis (PCA)\n",
    "\n",
    "Task:\n",
    "- Download the Iris data set.\n",
    "- Use the handmade pca.py to process data.\n",
    "- Compare to sklearn version.\n",
    "\n",
    "Resources:\n",
    "- [Scikit-learn PCA](https://scikit-learn.org/stable/modules/generated/sklearn.decomposition.PCA.html)\n",
    "- [Scikit-learn iris data](https://scikit-learn.org/stable/modules/generated/sklearn.datasets.load_iris.html)\n",
    "- [A tutorial on Principal Components Analysis](http://www.cs.otago.ac.nz/cosc453/student_tutorials/principal_components.pdf)\n"
   ]
  },
  {
   "cell_type": "markdown",
   "metadata": {},
   "source": [
    "## Imports"
   ]
  },
  {
   "cell_type": "code",
   "execution_count": 1,
   "metadata": {},
   "outputs": [],
   "source": [
    "# Libraries\n",
    "%matplotlib inline\n",
    "import numpy as np\n",
    "import matplotlib.pyplot as plt\n",
    "from sklearn.preprocessing import StandardScaler\n",
    "from sklearn.decomposition import PCA\n",
    "\n",
    "# Scripts\n",
    "from pca import TwoDimensionStandardizer, Whitener, PrincipalComponentAnalysis\n",
    "\n"
   ]
  },
  {
   "cell_type": "code",
   "execution_count": 2,
   "metadata": {},
   "outputs": [
    {
     "data": {
      "text/plain": [
       "array([[ 5.,  7.,  6.],\n",
       "       [ 5.,  4.,  6.],\n",
       "       [ 4.,  9., 10.],\n",
       "       [ 4.,  8.,  5.],\n",
       "       [ 6.,  9.,  1.]])"
      ]
     },
     "metadata": {},
     "output_type": "display_data"
    },
    {
     "data": {
      "text/plain": [
       "array([[ 0.26726124, -0.21566555,  0.1393466 ],\n",
       "       [ 0.26726124, -1.83315714,  0.1393466 ],\n",
       "       [-1.06904497,  0.86266219,  1.53281263],\n",
       "       [-1.06904497,  0.32349832, -0.2090199 ],\n",
       "       [ 1.60356745,  0.86266219, -1.60248593]])"
      ]
     },
     "metadata": {},
     "output_type": "display_data"
    },
    {
     "data": {
      "text/plain": [
       "array([[ 0.26726124, -0.21566555,  0.1393466 ],\n",
       "       [ 0.26726124, -1.83315714,  0.1393466 ],\n",
       "       [-1.06904497,  0.86266219,  1.53281263],\n",
       "       [-1.06904497,  0.32349832, -0.2090199 ],\n",
       "       [ 1.60356745,  0.86266219, -1.60248593]])"
      ]
     },
     "metadata": {},
     "output_type": "display_data"
    }
   ],
   "source": [
    "# TESTING: standardizer\n",
    "\n",
    "raw_data = np.array([[90, 60, 90], [90, 90, 30], [60, 60, 60]])\n",
    "np.random.seed(0)\n",
    "raw_data = np.random.rand(5, 3).round(1)*10\n",
    "\n",
    "display(raw_data)\n",
    "\n",
    "my_scaler = TwoDimensionStandardizer()\n",
    "\n",
    "display(my_scaler.fit_transform(data=raw_data))\n",
    "\n",
    "skl_scaler = StandardScaler()\n",
    "\n",
    "display(skl_scaler.fit_transform(raw_data))\n",
    "\n",
    "scaled_data = skl_scaler.fit_transform(raw_data)\n"
   ]
  },
  {
   "cell_type": "code",
   "execution_count": 3,
   "metadata": {},
   "outputs": [
    {
     "data": {
      "text/plain": [
       "'------------------------------------'"
      ]
     },
     "metadata": {},
     "output_type": "display_data"
    },
    {
     "data": {
      "text/plain": [
       "array([[ 0.20979149, -0.074787  ,  0.16701627],\n",
       "       [ 0.11625556, -0.81144961,  0.07439208],\n",
       "       [-0.15701342,  0.41884136,  0.71408592],\n",
       "       [-0.75665251,  0.0735427 , -0.46858132],\n",
       "       [ 0.58761887,  0.39385255, -0.48691296]])"
      ]
     },
     "metadata": {},
     "output_type": "display_data"
    },
    {
     "data": {
      "text/plain": [
       "array([[0.66147306, 0.05782777, 0.3263577 ],\n",
       "       [0.05782777, 0.4554352 , 0.05726409],\n",
       "       [0.3263577 , 0.05726409, 0.6612533 ]])"
      ]
     },
     "metadata": {},
     "output_type": "display_data"
    },
    {
     "data": {
      "text/plain": [
       "array([[ 0.20979149, -0.074787  ,  0.16701627],\n",
       "       [ 0.11625556, -0.81144961,  0.07439208],\n",
       "       [-0.15701342,  0.41884136,  0.71408592],\n",
       "       [-0.75665251,  0.0735427 , -0.46858132],\n",
       "       [ 0.58761887,  0.39385255, -0.48691296]])"
      ]
     },
     "metadata": {},
     "output_type": "display_data"
    },
    {
     "data": {
      "text/plain": [
       "'------------------------------------'"
      ]
     },
     "metadata": {},
     "output_type": "display_data"
    },
    {
     "data": {
      "text/plain": [
       "(array([[ 0.50493456,  0.06115708,  0.22649702],\n",
       "        [ 0.02674971,  0.06493916,  1.6447089 ],\n",
       "        [ 0.9026903 , -1.23462617, -0.70770647],\n",
       "        [-1.69206178, -0.40836727, -0.40020384],\n",
       "        [ 0.2576872 ,  1.5168972 , -0.76329561]]),\n",
       " array([[-0.1181363 , -0.1345709 ,  0.33780327],\n",
       "        [-1.82563382, -0.1261459 ,  2.04438996],\n",
       "        [ 0.71318499, -1.7934905 , -1.09893348],\n",
       "        [-0.056514  ,  0.15246293, -0.74030426],\n",
       "        [ 1.28709913,  1.90174438, -0.5429555 ]]))"
      ]
     },
     "metadata": {},
     "output_type": "display_data"
    },
    {
     "data": {
      "text/plain": [
       "array([[ 0.50493456,  0.06115708,  0.22649702],\n",
       "       [ 0.02674971,  0.06493916,  1.6447089 ],\n",
       "       [ 0.9026903 , -1.23462617, -0.70770647],\n",
       "       [-1.69206178, -0.40836727, -0.40020384],\n",
       "       [ 0.2576872 ,  1.5168972 , -0.76329561]])"
      ]
     },
     "metadata": {},
     "output_type": "display_data"
    }
   ],
   "source": [
    "# TESTING: whitener\n",
    "\n",
    "\n",
    "def whiten(X, fudge=1E-18):\n",
    "    \"\"\"\n",
    "    Args:\n",
    "        X (np.array): The matrix X should be observations-by-components\n",
    "        fudge (float): A fudge factor can be used so that eigenvectors associated with small eigenvalues do not get overamplified.\n",
    "    \"\"\"\n",
    "    # get the covariance matrix\n",
    "    Xcov = np.dot(X.T,X)\n",
    "    # eigenvalue decomposition of the covariance matrix\n",
    "    d, V = np.linalg.eigh(Xcov)\n",
    "    D = np.diag(1. / np.sqrt(d + fudge))\n",
    "    # whitening matrix\n",
    "    W = np.dot(np.dot(V, D), V.T)\n",
    "    # multiply by the whitening matrix\n",
    "    X_white = np.dot(X, W)\n",
    "    return X_white, W\n",
    "\n",
    "\n",
    "def svd_whiten(X):\n",
    "    U, s, Vt = np.linalg.svd(X, full_matrices=False)\n",
    "    # U and Vt are the singular matrices, and s contains the singular values.\n",
    "    # Since the rows of both U and Vt are orthonormal vectors, then U * Vt\n",
    "    # will be white\n",
    "    X_white = np.dot(U, Vt)\n",
    "    return X_white\n",
    "\n",
    "\n",
    "def my_whitener(data):\n",
    "    \"\"\"Input 2D data set. Output whiten & inv. whiten functions. Taken from colab week 2.\"\"\"\n",
    "    sigma = np.cov(data, rowvar=False)\n",
    "    mu = np.mean(data, axis=0)\n",
    "    values, vectors = np.linalg.eig(sigma)\n",
    "    l = np.diag(values ** -0.5)\n",
    "\n",
    "    def func(datapoints):\n",
    "        return np.array( [ l.dot(vectors.T.dot(d - mu)) for d in datapoints ])\n",
    "\n",
    "    def inv_func(datapoints):\n",
    "        return np.array( [ np.linalg.inv(vectors.T).dot(np.linalg.inv(l).dot(d)) + mu for d in datapoints ] )\n",
    "  \n",
    "    return func, inv_func\n",
    "\n",
    "\n",
    "class_whiten = Whitener()\n",
    "func_whiten, inv_whiten = my_whitener(data=scaled_data)\n",
    "\n",
    "display(\n",
    "    '------------------------------------',\n",
    "    whiten(X=scaled_data)[0],\n",
    "    whiten(X=scaled_data)[1],\n",
    "    svd_whiten(X=scaled_data),\n",
    "    '------------------------------------',\n",
    "    class_whiten.fit_transform(scaled_data),\n",
    "    func_whiten(scaled_data),\n",
    ")\n"
   ]
  },
  {
   "cell_type": "code",
   "execution_count": 4,
   "metadata": {},
   "outputs": [
    {
     "data": {
      "text/plain": [
       "array([[-0.38131303,  0.38839413],\n",
       "       [-0.61587453,  3.37299852],\n",
       "       [-4.33201691, -1.93358895],\n",
       "       [ 0.47085344, -0.62204378],\n",
       "       [ 4.85835104, -1.20575992]])"
      ]
     },
     "metadata": {},
     "output_type": "display_data"
    },
    {
     "data": {
      "text/plain": [
       "array([[-0.38131303,  0.38839413],\n",
       "       [-0.61587453,  3.37299852],\n",
       "       [-4.33201691, -1.93358895],\n",
       "       [ 0.47085344, -0.62204378],\n",
       "       [ 4.85835104, -1.20575992]])"
      ]
     },
     "metadata": {},
     "output_type": "display_data"
    }
   ],
   "source": [
    "# TESTING: PCA\n",
    "\n",
    "skl_pca = PCA(n_components=2)\n",
    "skl_pca.fit(raw_data)\n",
    "\n",
    "my_pca = PrincipalComponentAnalysis(n_components=2)\n",
    "my_pca.fit(raw_data)\n",
    "\n",
    "display(\n",
    "    skl_pca.transform(raw_data),\n",
    "    my_pca.transform(raw_data),\n",
    ")\n"
   ]
  },
  {
   "cell_type": "code",
   "execution_count": null,
   "metadata": {},
   "outputs": [],
   "source": []
  }
 ],
 "metadata": {
  "kernelspec": {
   "display_name": "Python 3.10.6 ('data-science-pca-QWUeZC_9-py3.10')",
   "language": "python",
   "name": "python3"
  },
  "language_info": {
   "codemirror_mode": {
    "name": "ipython",
    "version": 3
   },
   "file_extension": ".py",
   "mimetype": "text/x-python",
   "name": "python",
   "nbconvert_exporter": "python",
   "pygments_lexer": "ipython3",
   "version": "3.10.6"
  },
  "vscode": {
   "interpreter": {
    "hash": "271c27fae8acb5a2cfbd3720d84f689d24a652b58c934cf24165879edbda60e6"
   }
  }
 },
 "nbformat": 4,
 "nbformat_minor": 2
}
