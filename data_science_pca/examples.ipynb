{
 "cells": [
  {
   "cell_type": "markdown",
   "metadata": {},
   "source": [
    "# Principal Components Analysis (PCA)\n",
    "\n",
    "Resources:\n",
    "- [Scikit-learn PCA](https://scikit-learn.org/stable/modules/generated/sklearn.decomposition.PCA.html)\n",
    "- [Scikit-learn iris data](https://scikit-learn.org/stable/modules/generated/sklearn.datasets.load_iris.html)\n",
    "- [A tutorial on Principal Components Analysis](http://www.cs.otago.ac.nz/cosc453/student_tutorials/principal_components.pdf)\n",
    "- [What is the difference between whitening and PCA?](https://www.physicsforums.com/threads/what-is-the-difference-between-whitening-and-pca.635358/)\n",
    "- [How to reverse PCA and reconstruct original variables from several principal components?](https://stats.stackexchange.com/questions/229092/how-to-reverse-pca-and-reconstruct-original-variables-from-several-principal-com)\n",
    "- [PCA scores for only the first principal components are of \"wrong\" signs](https://stackoverflow.com/questions/67258885/pca-scores-for-only-the-first-principal-components-are-of-wrong-signs)\n"
   ]
  },
  {
   "cell_type": "markdown",
   "metadata": {},
   "source": [
    "## Imports"
   ]
  },
  {
   "cell_type": "code",
   "execution_count": null,
   "metadata": {},
   "outputs": [],
   "source": [
    "# Libraries\n",
    "%matplotlib inline\n",
    "import numpy as np\n",
    "import matplotlib.pyplot as plt\n",
    "from sklearn.preprocessing import StandardScaler\n",
    "from sklearn.decomposition import PCA\n",
    "\n",
    "# Scripts\n",
    "from pca import TwoDimensionStandardizer, PrincipalComponentAnalysis\n"
   ]
  },
  {
   "cell_type": "code",
   "execution_count": null,
   "metadata": {},
   "outputs": [],
   "source": [
    "# TESTING: Standardizer\n",
    "raw_data = np.array([[2.5, 0.5, 2.2, 1.9, 3.1, 2.3, 2, 1, 1.5, 1.1], [2.4, 0.7, 2.9, 2.2, 3.0, 2.7, 1.6, 1.1, 1.6, 0.9]]).T  # shape: (10, 2)\n",
    "\n",
    "display(raw_data)\n",
    "\n",
    "skl_scaler = StandardScaler()\n",
    "display(skl_scaler.fit_transform(raw_data))\n",
    "\n",
    "my_scaler = TwoDimensionStandardizer()\n",
    "display(my_scaler.fit_transform(data=raw_data))\n",
    "\n",
    "np.allclose(skl_scaler.fit_transform(raw_data), my_scaler.fit_transform(data=raw_data), rtol=1e-09, atol=1e-09)\n"
   ]
  },
  {
   "cell_type": "code",
   "execution_count": null,
   "metadata": {},
   "outputs": [],
   "source": [
    "# TESTING: PCA\n",
    "\n",
    "n_comp = raw_data.shape[1]\n",
    "whiten_bool = False\n",
    "\n",
    "skl_pca = PCA(n_components=n_comp, whiten=whiten_bool)\n",
    "skl_pca.fit(raw_data)\n",
    "\n",
    "my_pca = PrincipalComponentAnalysis(n_components=n_comp, whiten=whiten_bool)\n",
    "my_pca.fit(raw_data)\n",
    "\n",
    "display(skl_pca.transform(raw_data), skl_pca.components_)\n",
    "display(my_pca.transform(raw_data), my_pca.components)\n",
    "\n",
    "np.allclose(skl_pca.transform(raw_data), my_pca.transform(raw_data), rtol=1e-09, atol=1e-09)\n"
   ]
  },
  {
   "cell_type": "code",
   "execution_count": null,
   "metadata": {},
   "outputs": [],
   "source": [
    "# TESTING: PCA (feature reduction)\n",
    "\n",
    "n_comp = raw_data.shape[1] - 1\n",
    "whiten_bool = False\n",
    "\n",
    "skl_pca = PCA(n_components=n_comp, whiten=whiten_bool)\n",
    "skl_pca.fit(raw_data)\n",
    "\n",
    "my_pca = PrincipalComponentAnalysis(n_components=n_comp, whiten=whiten_bool)\n",
    "my_pca.fit(raw_data)\n",
    "\n",
    "display(skl_pca.transform(raw_data), skl_pca.components_)\n",
    "display(my_pca.transform(raw_data), my_pca.components)\n",
    "\n",
    "np.allclose(skl_pca.transform(raw_data), my_pca.transform(raw_data), rtol=1e-09, atol=1e-09)\n"
   ]
  },
  {
   "cell_type": "code",
   "execution_count": null,
   "metadata": {},
   "outputs": [],
   "source": [
    "# TESTING: Whitener\n",
    "\n",
    "n_comp = raw_data.shape[1]\n",
    "whiten_bool = True\n",
    "\n",
    "skl_pca = PCA(n_components=n_comp, whiten=whiten_bool)\n",
    "skl_pca.fit(raw_data)\n",
    "\n",
    "my_pca = PrincipalComponentAnalysis(n_components=n_comp, whiten=whiten_bool)\n",
    "my_pca.fit(raw_data)\n",
    "\n",
    "display(skl_pca.transform(raw_data), skl_pca.components_)\n",
    "display(my_pca.transform(raw_data), my_pca.components)\n",
    "\n",
    "np.allclose(skl_pca.transform(raw_data), my_pca.transform(raw_data), rtol=1e-09, atol=1e-09)\n"
   ]
  },
  {
   "cell_type": "code",
   "execution_count": null,
   "metadata": {},
   "outputs": [],
   "source": [
    "# TESTING: Reverse PCA transform (full recovery)\n",
    "\n",
    "n_comp = raw_data.shape[1]\n",
    "whiten_bool = False\n",
    "\n",
    "my_pca = PrincipalComponentAnalysis(n_components=n_comp, whiten=whiten_bool)\n",
    "my_pca.fit(raw_data)\n",
    "trans_data = my_pca.transform(raw_data)\n",
    "\n",
    "display(raw_data)\n",
    "display(my_pca.reverse_transform(data=trans_data))\n",
    "\n",
    "np.allclose(raw_data, my_pca.reverse_transform(data=trans_data), rtol=1e-09, atol=1e-09)\n"
   ]
  },
  {
   "cell_type": "code",
   "execution_count": null,
   "metadata": {},
   "outputs": [],
   "source": [
    "# TESTING: Reverse PCA transform (partial recovery)\n",
    "\n",
    "n_comp = raw_data.shape[1] - 1\n",
    "whiten_bool = False\n",
    "\n",
    "my_pca = PrincipalComponentAnalysis(n_components=n_comp, whiten=whiten_bool)\n",
    "my_pca.fit(raw_data)\n",
    "trans_data = my_pca.transform(raw_data)\n",
    "\n",
    "display(raw_data)\n",
    "display(my_pca.reverse_transform(data=trans_data))\n",
    "\n",
    "np.allclose(raw_data, my_pca.reverse_transform(data=trans_data), rtol=0.1, atol=0.1)\n"
   ]
  },
  {
   "cell_type": "code",
   "execution_count": null,
   "metadata": {},
   "outputs": [],
   "source": [
    "# TESTING: Reverse PCA transform (with whitening)\n",
    "\n",
    "n_comp = raw_data.shape[1]\n",
    "whiten_bool = True\n",
    "\n",
    "my_pca = PrincipalComponentAnalysis(n_components=n_comp, whiten=whiten_bool)\n",
    "my_pca.fit(raw_data)\n",
    "trans_data = my_pca.transform(raw_data)\n",
    "\n",
    "display(raw_data)\n",
    "display(my_pca.reverse_transform(data=trans_data))\n",
    "\n",
    "np.allclose(raw_data, my_pca.reverse_transform(data=trans_data), rtol=1e-09, atol=1e-09)\n"
   ]
  },
  {
   "cell_type": "code",
   "execution_count": null,
   "metadata": {},
   "outputs": [],
   "source": []
  }
 ],
 "metadata": {
  "kernelspec": {
   "display_name": "Python 3.10.6 ('data-science-pca-QWUeZC_9-py3.10')",
   "language": "python",
   "name": "python3"
  },
  "language_info": {
   "codemirror_mode": {
    "name": "ipython",
    "version": 3
   },
   "file_extension": ".py",
   "mimetype": "text/x-python",
   "name": "python",
   "nbconvert_exporter": "python",
   "pygments_lexer": "ipython3",
   "version": "3.10.6"
  },
  "vscode": {
   "interpreter": {
    "hash": "271c27fae8acb5a2cfbd3720d84f689d24a652b58c934cf24165879edbda60e6"
   }
  }
 },
 "nbformat": 4,
 "nbformat_minor": 2
}
